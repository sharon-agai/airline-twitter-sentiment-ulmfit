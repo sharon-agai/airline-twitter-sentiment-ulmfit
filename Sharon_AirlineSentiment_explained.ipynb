{
  "nbformat": 4,
  "nbformat_minor": 0,
  "metadata": {
    "colab": {
      "name": "Sharon-AirlineSentiment-explained",
      "version": "0.3.2",
      "provenance": [],
      "collapsed_sections": [
        "WtDW2TODR2xC",
        "-cYxKivoEyyl",
        "n4YsrA7_HsZW",
        "BHQWYukDSEOy",
        "4T5EjcOmS9RP",
        "rkB0NGaZRqsu",
        "pFLFAcz1RjRs",
        "9m7urcvAe4vM",
        "3IAqlf2_ZYoO",
        "KMLlDUI4hgjY",
        "1WFjFUO7ian1",
        "mAF3FlezZizZ",
        "d5bOAe0OZmXh",
        "HWm35EZCwIPF"
      ]
    },
    "kernelspec": {
      "name": "python3",
      "display_name": "Python 3"
    },
    "accelerator": "GPU"
  },
  "cells": [
    {
      "metadata": {
        "id": "M5OgNyNpEfIg",
        "colab_type": "text"
      },
      "cell_type": "markdown",
      "source": [
        "# Twitter Airline Sentiment Analysis \n",
        "## By Sharon Agai"
      ]
    },
    {
      "metadata": {
        "id": "LKfZZJThHP1_",
        "colab_type": "text"
      },
      "cell_type": "markdown",
      "source": [
        "### Utilities"
      ]
    },
    {
      "metadata": {
        "id": "cUThDUDeRvDc",
        "colab_type": "text"
      },
      "cell_type": "markdown",
      "source": [
        "#### Google Colab utilities"
      ]
    },
    {
      "metadata": {
        "id": "xK0ZoyJ9E7ft",
        "colab_type": "code",
        "outputId": "d189f7f5-657b-41f8-b13a-6adf7f018369",
        "colab": {
          "base_uri": "https://localhost:8080/",
          "height": 904
        }
      },
      "cell_type": "code",
      "source": [
        "# for google colab\n",
        "\n",
        "!ln -sf /opt/bin/nvidia-smi /usr/bin/nvidia-smi\n",
        "!pip install gputil\n",
        "!pip install psutil\n",
        "!pip install humanize\n",
        "                    \n",
        "import psutil\n",
        "import humanize\n",
        "import os\n",
        "import GPUtil as GPU\n",
        "GPUs = GPU.getGPUs()\n",
        "!pip install fastai\n",
        "\n",
        "# gpu check\n",
        "gpu = GPUs[0]\n",
        "def printm():\n",
        "  process = psutil.Process(os.getpid())\n",
        "  print(\"Gen RAM Free: \" + humanize.naturalsize( psutil.virtual_memory().available ), \" | Proc size: \" + humanize.naturalsize( process.memory_info().rss))\n",
        "  print(\"GPU RAM Free: {0:.0f}MB | Used: {1:.0f}MB | Util {2:3.0f}% | Total {3:.0f}MB\".format(gpu.memoryFree, gpu.memoryUsed, gpu.memoryUtil*100, gpu.memoryTotal))\n",
        "\n",
        "printm()\n",
        "\n",
        "# if ram is low \n",
        "# !pkill -9 -f ipykernel_launcher\n",
        "# and try again"
      ],
      "execution_count": 1,
      "outputs": [
        {
          "output_type": "stream",
          "text": [
            "Requirement already satisfied: gputil in /usr/local/lib/python3.6/dist-packages (1.4.0)\n",
            "Requirement already satisfied: psutil in /usr/local/lib/python3.6/dist-packages (5.4.8)\n",
            "Requirement already satisfied: humanize in /usr/local/lib/python3.6/dist-packages (0.5.1)\n",
            "Requirement already satisfied: fastai in /usr/local/lib/python3.6/dist-packages (1.0.46)\n",
            "Requirement already satisfied: spacy>=2.0.18 in /usr/local/lib/python3.6/dist-packages (from fastai) (2.0.18)\n",
            "Requirement already satisfied: torch>=1.0.0 in /usr/local/lib/python3.6/dist-packages (from fastai) (1.0.1.post2)\n",
            "Requirement already satisfied: pandas in /usr/local/lib/python3.6/dist-packages (from fastai) (0.22.0)\n",
            "Requirement already satisfied: numexpr in /usr/local/lib/python3.6/dist-packages (from fastai) (2.6.9)\n",
            "Requirement already satisfied: packaging in /usr/local/lib/python3.6/dist-packages (from fastai) (19.0)\n",
            "Requirement already satisfied: beautifulsoup4 in /usr/local/lib/python3.6/dist-packages (from fastai) (4.6.3)\n",
            "Requirement already satisfied: typing in /usr/local/lib/python3.6/dist-packages (from fastai) (3.6.6)\n",
            "Requirement already satisfied: bottleneck in /usr/local/lib/python3.6/dist-packages (from fastai) (1.2.1)\n",
            "Requirement already satisfied: matplotlib in /usr/local/lib/python3.6/dist-packages (from fastai) (3.0.2)\n",
            "Requirement already satisfied: numpy>=1.15 in /usr/local/lib/python3.6/dist-packages (from fastai) (1.16.2)\n",
            "Requirement already satisfied: Pillow in /usr/local/lib/python3.6/dist-packages (from fastai) (4.0.0)\n",
            "Requirement already satisfied: nvidia-ml-py3 in /usr/local/lib/python3.6/dist-packages (from fastai) (7.352.0)\n",
            "Requirement already satisfied: fastprogress>=0.1.19 in /usr/local/lib/python3.6/dist-packages (from fastai) (0.1.20)\n",
            "Requirement already satisfied: torchvision in /usr/local/lib/python3.6/dist-packages (from fastai) (0.2.1)\n",
            "Requirement already satisfied: pyyaml in /usr/local/lib/python3.6/dist-packages (from fastai) (3.13)\n",
            "Requirement already satisfied: scipy in /usr/local/lib/python3.6/dist-packages (from fastai) (1.1.0)\n",
            "Requirement already satisfied: requests in /usr/local/lib/python3.6/dist-packages (from fastai) (2.18.4)\n",
            "Requirement already satisfied: dataclasses; python_version < \"3.7\" in /usr/local/lib/python3.6/dist-packages (from fastai) (0.6)\n",
            "Requirement already satisfied: dill<0.3,>=0.2 in /usr/local/lib/python3.6/dist-packages (from spacy>=2.0.18->fastai) (0.2.9)\n",
            "Requirement already satisfied: ujson>=1.35 in /usr/local/lib/python3.6/dist-packages (from spacy>=2.0.18->fastai) (1.35)\n",
            "Requirement already satisfied: regex==2018.01.10 in /usr/local/lib/python3.6/dist-packages (from spacy>=2.0.18->fastai) (2018.1.10)\n",
            "Requirement already satisfied: plac<1.0.0,>=0.9.6 in /usr/local/lib/python3.6/dist-packages (from spacy>=2.0.18->fastai) (0.9.6)\n",
            "Requirement already satisfied: murmurhash<1.1.0,>=0.28.0 in /usr/local/lib/python3.6/dist-packages (from spacy>=2.0.18->fastai) (1.0.2)\n",
            "Requirement already satisfied: thinc<6.13.0,>=6.12.1 in /usr/local/lib/python3.6/dist-packages (from spacy>=2.0.18->fastai) (6.12.1)\n",
            "Requirement already satisfied: preshed<2.1.0,>=2.0.1 in /usr/local/lib/python3.6/dist-packages (from spacy>=2.0.18->fastai) (2.0.1)\n",
            "Requirement already satisfied: cymem<2.1.0,>=2.0.2 in /usr/local/lib/python3.6/dist-packages (from spacy>=2.0.18->fastai) (2.0.2)\n",
            "Requirement already satisfied: python-dateutil>=2 in /usr/local/lib/python3.6/dist-packages (from pandas->fastai) (2.5.3)\n",
            "Requirement already satisfied: pytz>=2011k in /usr/local/lib/python3.6/dist-packages (from pandas->fastai) (2018.9)\n",
            "Requirement already satisfied: six in /usr/local/lib/python3.6/dist-packages (from packaging->fastai) (1.11.0)\n",
            "Requirement already satisfied: pyparsing>=2.0.2 in /usr/local/lib/python3.6/dist-packages (from packaging->fastai) (2.3.1)\n",
            "Requirement already satisfied: cycler>=0.10 in /usr/local/lib/python3.6/dist-packages (from matplotlib->fastai) (0.10.0)\n",
            "Requirement already satisfied: kiwisolver>=1.0.1 in /usr/local/lib/python3.6/dist-packages (from matplotlib->fastai) (1.0.1)\n",
            "Requirement already satisfied: olefile in /usr/local/lib/python3.6/dist-packages (from Pillow->fastai) (0.46)\n",
            "Requirement already satisfied: certifi>=2017.4.17 in /usr/local/lib/python3.6/dist-packages (from requests->fastai) (2018.11.29)\n",
            "Requirement already satisfied: idna<2.7,>=2.5 in /usr/local/lib/python3.6/dist-packages (from requests->fastai) (2.6)\n",
            "Requirement already satisfied: urllib3<1.23,>=1.21.1 in /usr/local/lib/python3.6/dist-packages (from requests->fastai) (1.22)\n",
            "Requirement already satisfied: chardet<3.1.0,>=3.0.2 in /usr/local/lib/python3.6/dist-packages (from requests->fastai) (3.0.4)\n",
            "Requirement already satisfied: msgpack-numpy<0.4.4 in /usr/local/lib/python3.6/dist-packages (from thinc<6.13.0,>=6.12.1->spacy>=2.0.18->fastai) (0.4.3.2)\n",
            "Requirement already satisfied: msgpack<0.6.0,>=0.5.6 in /usr/local/lib/python3.6/dist-packages (from thinc<6.13.0,>=6.12.1->spacy>=2.0.18->fastai) (0.5.6)\n",
            "Requirement already satisfied: tqdm<5.0.0,>=4.10.0 in /usr/local/lib/python3.6/dist-packages (from thinc<6.13.0,>=6.12.1->spacy>=2.0.18->fastai) (4.28.1)\n",
            "Requirement already satisfied: cytoolz<0.10,>=0.9.0 in /usr/local/lib/python3.6/dist-packages (from thinc<6.13.0,>=6.12.1->spacy>=2.0.18->fastai) (0.9.0.1)\n",
            "Requirement already satisfied: wrapt<1.11.0,>=1.10.0 in /usr/local/lib/python3.6/dist-packages (from thinc<6.13.0,>=6.12.1->spacy>=2.0.18->fastai) (1.10.11)\n",
            "Requirement already satisfied: setuptools in /usr/local/lib/python3.6/dist-packages (from kiwisolver>=1.0.1->matplotlib->fastai) (40.8.0)\n",
            "Requirement already satisfied: toolz>=0.8.0 in /usr/local/lib/python3.6/dist-packages (from cytoolz<0.10,>=0.9.0->thinc<6.13.0,>=6.12.1->spacy>=2.0.18->fastai) (0.9.0)\n",
            "Gen RAM Free: 11.5 GB  | Proc size: 142.9 MB\n",
            "GPU RAM Free: 9882MB | Used: 1559MB | Util  14% | Total 11441MB\n"
          ],
          "name": "stdout"
        }
      ]
    },
    {
      "metadata": {
        "id": "2R5fg3NWHgQC",
        "colab_type": "code",
        "outputId": "724f3df8-ade5-4a66-a4f7-b9893f9348f3",
        "colab": {
          "resources": {
            "http://localhost:8080/nbextensions/google.colab/files.js": {
              "data": "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",
              "ok": true,
              "headers": [
                [
                  "content-type",
                  "application/javascript"
                ]
              ],
              "status": 200,
              "status_text": ""
            }
          },
          "base_uri": "https://localhost:8080/",
          "height": 75
        }
      },
      "cell_type": "code",
      "source": [
        "from google.colab import files\n",
        "uploaded = files.upload()"
      ],
      "execution_count": 2,
      "outputs": [
        {
          "output_type": "display_data",
          "data": {
            "text/html": [
              "\n",
              "     <input type=\"file\" id=\"files-3f504a49-03a8-4569-a995-9e9e00d071e1\" name=\"files[]\" multiple disabled />\n",
              "     <output id=\"result-3f504a49-03a8-4569-a995-9e9e00d071e1\">\n",
              "      Upload widget is only available when the cell has been executed in the\n",
              "      current browser session. Please rerun this cell to enable.\n",
              "      </output>\n",
              "      <script src=\"/nbextensions/google.colab/files.js\"></script> "
            ],
            "text/plain": [
              "<IPython.core.display.HTML object>"
            ]
          },
          "metadata": {
            "tags": []
          }
        },
        {
          "output_type": "stream",
          "text": [
            "Saving Tweets.csv to Tweets (1).csv\n"
          ],
          "name": "stdout"
        }
      ]
    },
    {
      "metadata": {
        "id": "WtDW2TODR2xC",
        "colab_type": "text"
      },
      "cell_type": "markdown",
      "source": [
        "#### Python utilities"
      ]
    },
    {
      "metadata": {
        "id": "0iMsHwiMEU1R",
        "colab_type": "code",
        "colab": {
          "base_uri": "https://localhost:8080/",
          "height": 72
        },
        "outputId": "812eb478-0ff3-485f-96f9-21e898ded342"
      },
      "cell_type": "code",
      "source": [
        "from datetime import datetime\n",
        "from fastai import *\n",
        "from fastai.callbacks import *\n",
        "from fastai.text import *\n",
        "import matplotlib.pyplot as plt\n",
        "import nltk\n",
        "from nltk.corpus import stopwords \n",
        "import numpy as np\n",
        "import pandas as pd\n",
        "import seaborn as sns\n",
        "from sklearn.metrics import classification_report\n",
        "from sklearn.metrics import confusion_matrix\n",
        "from sklearn import preprocessing\n",
        "from sklearn.preprocessing import LabelEncoder\n",
        "from torchtext import vocab\n",
        "\n",
        "nltk.download('stopwords')\n",
        "\n",
        "sns.set(style=\"whitegrid\")\n",
        "%matplotlib inline"
      ],
      "execution_count": 3,
      "outputs": [
        {
          "output_type": "stream",
          "text": [
            "[nltk_data] Downloading package stopwords to /root/nltk_data...\n",
            "[nltk_data]   Package stopwords is already up-to-date!\n"
          ],
          "name": "stdout"
        }
      ]
    },
    {
      "metadata": {
        "id": "vwpZ_9KjHev4",
        "colab_type": "code",
        "outputId": "086b1f6a-14b0-4e1c-bbde-0ce2759e9fc3",
        "colab": {
          "base_uri": "https://localhost:8080/",
          "height": 447
        }
      },
      "cell_type": "code",
      "source": [
        "raw_tweets = pd.read_csv('Tweets.csv', encoding='latin-1')\n",
        "raw_tweets.head()"
      ],
      "execution_count": 4,
      "outputs": [
        {
          "output_type": "execute_result",
          "data": {
            "text/html": [
              "<div>\n",
              "<style scoped>\n",
              "    .dataframe tbody tr th:only-of-type {\n",
              "        vertical-align: middle;\n",
              "    }\n",
              "\n",
              "    .dataframe tbody tr th {\n",
              "        vertical-align: top;\n",
              "    }\n",
              "\n",
              "    .dataframe thead th {\n",
              "        text-align: right;\n",
              "    }\n",
              "</style>\n",
              "<table border=\"1\" class=\"dataframe\">\n",
              "  <thead>\n",
              "    <tr style=\"text-align: right;\">\n",
              "      <th></th>\n",
              "      <th>tweet_id</th>\n",
              "      <th>airline_sentiment</th>\n",
              "      <th>airline_sentiment_confidence</th>\n",
              "      <th>negativereason</th>\n",
              "      <th>negativereason_confidence</th>\n",
              "      <th>airline</th>\n",
              "      <th>airline_sentiment_gold</th>\n",
              "      <th>name</th>\n",
              "      <th>negativereason_gold</th>\n",
              "      <th>retweet_count</th>\n",
              "      <th>text</th>\n",
              "      <th>tweet_coord</th>\n",
              "      <th>tweet_created</th>\n",
              "      <th>tweet_location</th>\n",
              "      <th>user_timezone</th>\n",
              "    </tr>\n",
              "  </thead>\n",
              "  <tbody>\n",
              "    <tr>\n",
              "      <th>0</th>\n",
              "      <td>570306133677760513</td>\n",
              "      <td>neutral</td>\n",
              "      <td>1.0000</td>\n",
              "      <td>NaN</td>\n",
              "      <td>NaN</td>\n",
              "      <td>Virgin America</td>\n",
              "      <td>NaN</td>\n",
              "      <td>cairdin</td>\n",
              "      <td>NaN</td>\n",
              "      <td>0</td>\n",
              "      <td>@VirginAmerica What @dhepburn said.</td>\n",
              "      <td>NaN</td>\n",
              "      <td>2015-02-24 11:35:52 -0800</td>\n",
              "      <td>NaN</td>\n",
              "      <td>Eastern Time (US &amp; Canada)</td>\n",
              "    </tr>\n",
              "    <tr>\n",
              "      <th>1</th>\n",
              "      <td>570301130888122368</td>\n",
              "      <td>positive</td>\n",
              "      <td>0.3486</td>\n",
              "      <td>NaN</td>\n",
              "      <td>0.0000</td>\n",
              "      <td>Virgin America</td>\n",
              "      <td>NaN</td>\n",
              "      <td>jnardino</td>\n",
              "      <td>NaN</td>\n",
              "      <td>0</td>\n",
              "      <td>@VirginAmerica plus you've added commercials t...</td>\n",
              "      <td>NaN</td>\n",
              "      <td>2015-02-24 11:15:59 -0800</td>\n",
              "      <td>NaN</td>\n",
              "      <td>Pacific Time (US &amp; Canada)</td>\n",
              "    </tr>\n",
              "    <tr>\n",
              "      <th>2</th>\n",
              "      <td>570301083672813571</td>\n",
              "      <td>neutral</td>\n",
              "      <td>0.6837</td>\n",
              "      <td>NaN</td>\n",
              "      <td>NaN</td>\n",
              "      <td>Virgin America</td>\n",
              "      <td>NaN</td>\n",
              "      <td>yvonnalynn</td>\n",
              "      <td>NaN</td>\n",
              "      <td>0</td>\n",
              "      <td>@VirginAmerica I didn't today... Must mean I n...</td>\n",
              "      <td>NaN</td>\n",
              "      <td>2015-02-24 11:15:48 -0800</td>\n",
              "      <td>Lets Play</td>\n",
              "      <td>Central Time (US &amp; Canada)</td>\n",
              "    </tr>\n",
              "    <tr>\n",
              "      <th>3</th>\n",
              "      <td>570301031407624196</td>\n",
              "      <td>negative</td>\n",
              "      <td>1.0000</td>\n",
              "      <td>Bad Flight</td>\n",
              "      <td>0.7033</td>\n",
              "      <td>Virgin America</td>\n",
              "      <td>NaN</td>\n",
              "      <td>jnardino</td>\n",
              "      <td>NaN</td>\n",
              "      <td>0</td>\n",
              "      <td>@VirginAmerica it's really aggressive to blast...</td>\n",
              "      <td>NaN</td>\n",
              "      <td>2015-02-24 11:15:36 -0800</td>\n",
              "      <td>NaN</td>\n",
              "      <td>Pacific Time (US &amp; Canada)</td>\n",
              "    </tr>\n",
              "    <tr>\n",
              "      <th>4</th>\n",
              "      <td>570300817074462722</td>\n",
              "      <td>negative</td>\n",
              "      <td>1.0000</td>\n",
              "      <td>Can't Tell</td>\n",
              "      <td>1.0000</td>\n",
              "      <td>Virgin America</td>\n",
              "      <td>NaN</td>\n",
              "      <td>jnardino</td>\n",
              "      <td>NaN</td>\n",
              "      <td>0</td>\n",
              "      <td>@VirginAmerica and it's a really big bad thing...</td>\n",
              "      <td>NaN</td>\n",
              "      <td>2015-02-24 11:14:45 -0800</td>\n",
              "      <td>NaN</td>\n",
              "      <td>Pacific Time (US &amp; Canada)</td>\n",
              "    </tr>\n",
              "  </tbody>\n",
              "</table>\n",
              "</div>"
            ],
            "text/plain": [
              "             tweet_id airline_sentiment  airline_sentiment_confidence  \\\n",
              "0  570306133677760513           neutral                        1.0000   \n",
              "1  570301130888122368          positive                        0.3486   \n",
              "2  570301083672813571           neutral                        0.6837   \n",
              "3  570301031407624196          negative                        1.0000   \n",
              "4  570300817074462722          negative                        1.0000   \n",
              "\n",
              "  negativereason  negativereason_confidence         airline  \\\n",
              "0            NaN                        NaN  Virgin America   \n",
              "1            NaN                     0.0000  Virgin America   \n",
              "2            NaN                        NaN  Virgin America   \n",
              "3     Bad Flight                     0.7033  Virgin America   \n",
              "4     Can't Tell                     1.0000  Virgin America   \n",
              "\n",
              "  airline_sentiment_gold        name negativereason_gold  retweet_count  \\\n",
              "0                    NaN     cairdin                 NaN              0   \n",
              "1                    NaN    jnardino                 NaN              0   \n",
              "2                    NaN  yvonnalynn                 NaN              0   \n",
              "3                    NaN    jnardino                 NaN              0   \n",
              "4                    NaN    jnardino                 NaN              0   \n",
              "\n",
              "                                                text tweet_coord  \\\n",
              "0                @VirginAmerica What @dhepburn said.         NaN   \n",
              "1  @VirginAmerica plus you've added commercials t...         NaN   \n",
              "2  @VirginAmerica I didn't today... Must mean I n...         NaN   \n",
              "3  @VirginAmerica it's really aggressive to blast...         NaN   \n",
              "4  @VirginAmerica and it's a really big bad thing...         NaN   \n",
              "\n",
              "               tweet_created tweet_location               user_timezone  \n",
              "0  2015-02-24 11:35:52 -0800            NaN  Eastern Time (US & Canada)  \n",
              "1  2015-02-24 11:15:59 -0800            NaN  Pacific Time (US & Canada)  \n",
              "2  2015-02-24 11:15:48 -0800      Lets Play  Central Time (US & Canada)  \n",
              "3  2015-02-24 11:15:36 -0800            NaN  Pacific Time (US & Canada)  \n",
              "4  2015-02-24 11:14:45 -0800            NaN  Pacific Time (US & Canada)  "
            ]
          },
          "metadata": {
            "tags": []
          },
          "execution_count": 4
        }
      ]
    },
    {
      "metadata": {
        "id": "-cYxKivoEyyl",
        "colab_type": "text"
      },
      "cell_type": "markdown",
      "source": [
        "### Data Visualization (and very basic cleaning)"
      ]
    },
    {
      "metadata": {
        "id": "n4YsrA7_HsZW",
        "colab_type": "text"
      },
      "cell_type": "markdown",
      "source": [
        "#### Basic cleaning\n",
        "What does the data look like? Is there anything I know I should drop because it has many NaN values or I will not be using for sentiment analysis? "
      ]
    },
    {
      "metadata": {
        "id": "eQc4Atm-Hk75",
        "colab_type": "code",
        "outputId": "6cde6b7b-c3c6-467d-fcd9-fd991d153802",
        "colab": {
          "base_uri": "https://localhost:8080/",
          "height": 609
        }
      },
      "cell_type": "code",
      "source": [
        "# percent of NaNs in each columns\n",
        "print(((len(raw_tweets)-raw_tweets.count()) / len(raw_tweets))*100)\n",
        "\n",
        "raw_tweets = raw_tweets.drop(['airline_sentiment_gold', 'negativereason_gold', 'tweet_coord'], axis=1)\n",
        "print(raw_tweets.columns)\n",
        "\n",
        "# duplicates\n",
        "raw_tweets = raw_tweets.drop_duplicates(subset=['tweet_id', 'text'])\n",
        "\n",
        "# drop columns I am unlikely to use \n",
        "raw_tweets = raw_tweets.drop(['airline_sentiment_confidence', 'negativereason_confidence', 'tweet_created',\n",
        "                             'tweet_location', 'user_timezone'], axis=1)\n",
        "\n",
        "raw_tweets.info()"
      ],
      "execution_count": 5,
      "outputs": [
        {
          "output_type": "stream",
          "text": [
            "tweet_id                         0.000000\n",
            "airline_sentiment                0.000000\n",
            "airline_sentiment_confidence     0.000000\n",
            "negativereason                  37.308743\n",
            "negativereason_confidence       28.128415\n",
            "airline                          0.000000\n",
            "airline_sentiment_gold          99.726776\n",
            "name                             0.000000\n",
            "negativereason_gold             99.781421\n",
            "retweet_count                    0.000000\n",
            "text                             0.000000\n",
            "tweet_coord                     93.039617\n",
            "tweet_created                    0.000000\n",
            "tweet_location                  32.329235\n",
            "user_timezone                   32.923497\n",
            "dtype: float64\n",
            "Index(['tweet_id', 'airline_sentiment', 'airline_sentiment_confidence',\n",
            "       'negativereason', 'negativereason_confidence', 'airline', 'name',\n",
            "       'retweet_count', 'text', 'tweet_created', 'tweet_location',\n",
            "       'user_timezone'],\n",
            "      dtype='object')\n",
            "<class 'pandas.core.frame.DataFrame'>\n",
            "Int64Index: 14485 entries, 0 to 14639\n",
            "Data columns (total 7 columns):\n",
            "tweet_id             14485 non-null int64\n",
            "airline_sentiment    14485 non-null object\n",
            "negativereason       9082 non-null object\n",
            "airline              14485 non-null object\n",
            "name                 14485 non-null object\n",
            "retweet_count        14485 non-null int64\n",
            "text                 14485 non-null object\n",
            "dtypes: int64(2), object(5)\n",
            "memory usage: 905.3+ KB\n"
          ],
          "name": "stdout"
        }
      ]
    },
    {
      "metadata": {
        "id": "BHQWYukDSEOy",
        "colab_type": "text"
      },
      "cell_type": "markdown",
      "source": [
        "#### Visualization"
      ]
    },
    {
      "metadata": {
        "id": "u_IemBROIF9H",
        "colab_type": "code",
        "outputId": "60beaf50-0425-4250-b0ba-bd93b6006a58",
        "colab": {
          "base_uri": "https://localhost:8080/",
          "height": 423
        }
      },
      "cell_type": "code",
      "source": [
        "# Class imbalance\n",
        "\n",
        "negatives = raw_tweets[(raw_tweets['airline_sentiment'] == 'negative')]\n",
        "neutrals = raw_tweets[(raw_tweets['airline_sentiment'] == 'neutral')]\n",
        "positives = raw_tweets[(raw_tweets['airline_sentiment'] == 'positive')]\n",
        "\n",
        "imb_percent = (raw_tweets['airline_sentiment'].value_counts()/len(raw_tweets))*100\n",
        "imb_num = raw_tweets['airline_sentiment'].value_counts()\n",
        "\n",
        "\n",
        "fig,(ax1,ax2) = plt.subplots(1,2,figsize=(12,6))\n",
        "plt.subplots_adjust(wspace=0.25)\n",
        "\n",
        "imb_percent.plot(kind='bar', ax=ax1)\n",
        "ax1.set_title('Class imbalance (percent)')\n",
        "ax1.set_xlabel('sentiment')\n",
        "ax1.tick_params(axis='x', rotation=360)\n",
        "ax1.set_ylabel('% of total')\n",
        "\n",
        "imb_num.plot(kind='bar', ax=ax2)\n",
        "ax2.set_title('Class imbalance (numeric)')\n",
        "ax2.set_xlabel('sentiment')\n",
        "ax2.tick_params(axis='x', rotation=360)\n",
        "ax2.set_ylabel('count')\n",
        "\n",
        "plt.show()"
      ],
      "execution_count": 6,
      "outputs": [
        {
          "output_type": "display_data",
          "data": {
            "image/png": "[encoded data removed]",
            "text/plain": [
              "<Figure size 864x432 with 2 Axes>"
            ]
          },
          "metadata": {
            "tags": []
          }
        }
      ]
    },
    {
      "metadata": {
        "id": "dP-M_NXYLflA",
        "colab_type": "code",
        "outputId": "a713f50f-fa9d-49ed-8489-341bdab4eea4",
        "colab": {
          "base_uri": "https://localhost:8080/",
          "height": 675
        }
      },
      "cell_type": "code",
      "source": [
        "# Splitting up the tweets and tweet_sentiment by airline \n",
        "\n",
        "fig,(ax1,ax2) = plt.subplots(2,1,figsize=(13,10))\n",
        "plt.subplots_adjust(hspace=0.5)\n",
        "\n",
        "airline_counts = raw_tweets['airline'].value_counts()\n",
        "airline_counts.plot(kind='bar', ax=ax1)\n",
        "ax1.set_title('Tweets per airline')\n",
        "ax1.tick_params(axis='x', rotation=45)\n",
        "ax1.set_xlabel('airline')\n",
        "ax1.set_ylabel('tweet count')\n",
        "\n",
        "counts_by_airline = sns.countplot(x='airline', hue='airline_sentiment', data=raw_tweets, ax=ax2)\n",
        "ax2.set_title('Tweet sentiment by airline')\n",
        "ax2.set_ylabel('tweet count')\n",
        "ax2.legend(bbox_to_anchor=(1.12, 1), title='sentiment')\n",
        "\n",
        "plt.show()"
      ],
      "execution_count": 7,
      "outputs": [
        {
          "output_type": "stream",
          "text": [
            "/usr/local/lib/python3.6/dist-packages/seaborn/categorical.py:1468: FutureWarning: remove_na is deprecated and is a private function. Do not use.\n",
            "  stat_data = remove_na(group_data[hue_mask])\n"
          ],
          "name": "stderr"
        },
        {
          "output_type": "display_data",
          "data": {
            "image/png": "[encoded data removed]",
            "text/plain": [
              "<Figure size 936x720 with 2 Axes>"
            ]
          },
          "metadata": {
            "tags": []
          }
        }
      ]
    },
    {
      "metadata": {
        "id": "oyWqjH4_NhsA",
        "colab_type": "code",
        "outputId": "5395aa7f-4043-4b3b-f74f-473b2b4761b0",
        "colab": {
          "base_uri": "https://localhost:8080/",
          "height": 429
        }
      },
      "cell_type": "code",
      "source": [
        "# Are any tweets especially retweeted? \n",
        "\n",
        "fig,(ax1,ax2,ax3) = plt.subplots(1,3,figsize=(18,6))\n",
        "plt.subplots_adjust(wspace=0.25)\n",
        "\n",
        "retweets = raw_tweets['retweet_count'].value_counts()\n",
        "retweets.plot(kind='bar', ax=ax1)\n",
        "ax1.set_title('Retweet count')\n",
        "ax1.set_ylabel('# tweets retweeted', fontsize=14)\n",
        "\n",
        "retweets.plot(kind='bar', ax=ax2)\n",
        "ax2.set_title('Retweet count - zooming in')\n",
        "ax2.set_xlabel('retweet_count', fontsize=14)\n",
        "ax2.set_ylim(0,800)\n",
        "\n",
        "retweets.plot(kind='bar', ax=ax3)\n",
        "ax3.set_title('Retweet count - zooming in more')\n",
        "ax3.set_ylim(0,25)\n",
        "\n",
        "plt.show()"
      ],
      "execution_count": 8,
      "outputs": [
        {
          "output_type": "display_data",
          "data": {
            "image/png": "[encoded data removed]",
            "text/plain": [
              "<Figure size 1296x432 with 3 Axes>"
            ]
          },
          "metadata": {
            "tags": []
          }
        }
      ]
    },
    {
      "metadata": {
        "id": "z1ZY8GTnPZGD",
        "colab_type": "text"
      },
      "cell_type": "markdown",
      "source": [
        "Most of the tweets are not retweeted, or only retweeted by a couple users. The most popular tweet was retweeted 44 times! Let's see what it was."
      ]
    },
    {
      "metadata": {
        "id": "ln-g1Q0mPidJ",
        "colab_type": "code",
        "outputId": "d9543ac1-7c34-4ca1-d835-0ee55135644b",
        "colab": {
          "base_uri": "https://localhost:8080/",
          "height": 124
        }
      },
      "cell_type": "code",
      "source": [
        "most_retweeted = np.argmax(raw_tweets['retweet_count'])\n",
        "print('Retweets:', raw_tweets.iloc[most_retweeted]['retweet_count'])\n",
        "print('Index of most retweeted tweet:', most_retweeted)\n",
        "print('Tweet:', raw_tweets.iloc[most_retweeted]['text'])"
      ],
      "execution_count": 9,
      "outputs": [
        {
          "output_type": "stream",
          "text": [
            "Retweets: 44\n",
            "Index of most retweeted tweet: 11596\n",
            "Tweet: @USAirways 5 hr flight delay and a delay when we land . Is that even real life ? Get me off this plane , I wanna go home ð ð ð  (3 heel clicks)\n"
          ],
          "name": "stdout"
        },
        {
          "output_type": "stream",
          "text": [
            "/usr/local/lib/python3.6/dist-packages/numpy/core/fromnumeric.py:56: FutureWarning: 'argmax' is deprecated. Use 'idxmax' instead. The behavior of 'argmax' will be corrected to return the positional maximum in the future. Use 'series.values.argmax' to get the position of the maximum now.\n",
            "  return getattr(obj, method)(*args, **kwds)\n"
          ],
          "name": "stderr"
        }
      ]
    },
    {
      "metadata": {
        "id": "xv1FeN5TQVSt",
        "colab_type": "code",
        "outputId": "c73ac22b-ac65-44d7-fdd3-bd6be45c9d62",
        "colab": {
          "base_uri": "https://localhost:8080/",
          "height": 829
        }
      },
      "cell_type": "code",
      "source": [
        "# Why are people having bad flights? \n",
        "\n",
        "fig,(ax1,ax2) = plt.subplots(2,1,figsize=(16,12))\n",
        "plt.subplots_adjust(hspace=0.7)\n",
        "\n",
        "g1 = sns.countplot(x='negativereason', hue='airline', data=negatives, ax=ax1)\n",
        "g1.set_title('Reasons for bad flight experiences (broken down by airline)', fontsize='15')\n",
        "g1.set_xlabel('complaint')\n",
        "g1.tick_params(axis='x', rotation=45)\n",
        "g1.legend(bbox_to_anchor=(1.12, 1), title='airline')\n",
        "\n",
        "g2 = sns.countplot(x='airline', hue='negativereason', data=negatives, ax=ax2)\n",
        "g2.set_title('Number of bad flights per airline (broken down by reason)', fontsize='15')\n",
        "g2.tick_params(axis='x', rotation=45)\n",
        "g2.legend(bbox_to_anchor=(1, 1), title='reason')\n",
        "\n",
        "plt.show()"
      ],
      "execution_count": 10,
      "outputs": [
        {
          "output_type": "stream",
          "text": [
            "/usr/local/lib/python3.6/dist-packages/seaborn/categorical.py:1468: FutureWarning: remove_na is deprecated and is a private function. Do not use.\n",
            "  stat_data = remove_na(group_data[hue_mask])\n"
          ],
          "name": "stderr"
        },
        {
          "output_type": "display_data",
          "data": {
            "image/png": "[encoded data removed]",
            "text/plain": [
              "<Figure size 1152x864 with 2 Axes>"
            ]
          },
          "metadata": {
            "tags": []
          }
        }
      ]
    },
    {
      "metadata": {
        "id": "Rf1YPevsRL3B",
        "colab_type": "code",
        "outputId": "992c9403-847c-4ab1-b264-0eddbde3db61",
        "colab": {
          "base_uri": "https://localhost:8080/",
          "height": 89
        }
      },
      "cell_type": "code",
      "source": [
        "# Check that the tweets parse properly \n",
        "# SOURCE: https://towardsdatascience.com/yet-another-twitter-sentiment-analysis-part-1-tackling-class-imbalance-4d7a7f717d44\n",
        "\n",
        "token_length = [len(x.split(\" \")) for x in raw_tweets.text]\n",
        "print('Longest tweet:', max(token_length), 'tokens') \n",
        "print('Index of longest tweet:', token_length[max(token_length)])\n",
        "print(raw_tweets.text[16])"
      ],
      "execution_count": 11,
      "outputs": [
        {
          "output_type": "stream",
          "text": [
            "Longest tweet: 36 tokens\n",
            "Index of longest tweet: 16\n",
            "@VirginAmerica So excited for my first cross country flight LAX to MCO I've heard nothing but great things about Virgin America. #29DaysToGo\n"
          ],
          "name": "stdout"
        }
      ]
    },
    {
      "metadata": {
        "id": "4T5EjcOmS9RP",
        "colab_type": "text"
      },
      "cell_type": "markdown",
      "source": [
        "### Cleaning and preprocessing"
      ]
    },
    {
      "metadata": {
        "id": "rkB0NGaZRqsu",
        "colab_type": "text"
      },
      "cell_type": "markdown",
      "source": [
        "#### Cleaning\n",
        "\n",
        "I experimented with several different cleaning functions, especially those relating to removing cases and tokenization (even though the fastai databunch module will do this for us). I chose the cleaning functions below because they balance normalizing the text with \"overcleaning\" it and losing information that could be helpful to fitting the model. "
      ]
    },
    {
      "metadata": {
        "id": "dFjv7SsUTB4y",
        "colab_type": "code",
        "colab": {}
      },
      "cell_type": "code",
      "source": [
        "# Removing handles \n",
        "# SOURCE: https://www.analyticsvidhya.com/blog/2018/07/hands-on-sentiment-analysis-dataset-python/\n",
        "\n",
        "def remove_pattern(input_txt, pattern):\n",
        "    r = re.findall(pattern, input_txt)\n",
        "    for i in r:\n",
        "        input_txt = re.sub(i, '', input_txt)\n",
        "        \n",
        "    return input_txt \n",
        "\n",
        "raw_tweets['tidy_tweet'] = np.vectorize(remove_pattern)(raw_tweets['text'], \"@[\\w]*\")"
      ],
      "execution_count": 0,
      "outputs": []
    },
    {
      "metadata": {
        "id": "5LvL5-IAcuBg",
        "colab_type": "code",
        "colab": {}
      },
      "cell_type": "code",
      "source": [
        "# Removing non-ASCII characters \n",
        "\n",
        "raw_tweets['tidy_tweet'] = raw_tweets['tidy_tweet'].str.encode('ascii', 'ignore').str.decode('utf-8', 'ignore')"
      ],
      "execution_count": 0,
      "outputs": []
    },
    {
      "metadata": {
        "id": "TWCyORNBbMTo",
        "colab_type": "code",
        "colab": {}
      },
      "cell_type": "code",
      "source": [
        "# Replace commonly seen 'weird' characters that are left\n",
        "# SOURCE: # https://nbviewer.jupyter.org/github/fastai/fastai/blob/master/courses/dl2/imdb.ipynb\n",
        "\n",
        "re1 = re.compile(r'  +')\n",
        "def fixup(x):\n",
        "    x = x.replace('#39;', \"'\").replace('amp;', '&').replace('#146;', \"'\").replace(\n",
        "        'nbsp;', ' ').replace('#36;', '$').replace('\\\\n', \"\\n\").replace('quot;', \"'\").replace(\n",
        "        '<br />', \"\\n\").replace('\\\\\"', '\"').replace('<unk>','u_n').replace(' @.@ ','.').replace(\n",
        "        ' @-@ ','-').replace('\\\\', ' \\\\ ')\n",
        "    return re1.sub(' ', html.unescape(x))\n",
        "\n",
        "raw_tweets['tidy_tweet'] = raw_tweets['tidy_tweet'].apply(fixup).values"
      ],
      "execution_count": 0,
      "outputs": []
    },
    {
      "metadata": {
        "id": "7s75SNn5as08",
        "colab_type": "code",
        "colab": {}
      },
      "cell_type": "code",
      "source": [
        "# Label encoding for sentiment\n",
        "\n",
        "labelencoder = LabelEncoder()\n",
        "raw_tweets['airline_sentiment'] = labelencoder.fit_transform(raw_tweets['airline_sentiment'])"
      ],
      "execution_count": 0,
      "outputs": []
    },
    {
      "metadata": {
        "id": "vdVyivF7Sb1t",
        "colab_type": "text"
      },
      "cell_type": "markdown",
      "source": [
        "Note: I chose to label encode instead of one hot encode because it retains the relationship between negative, neutral, and positive more than one hot encoding does"
      ]
    },
    {
      "metadata": {
        "id": "pFLFAcz1RjRs",
        "colab_type": "text"
      },
      "cell_type": "markdown",
      "source": [
        "#### Preparing the data for modeling"
      ]
    },
    {
      "metadata": {
        "id": "XL7QOoWPaWz3",
        "colab_type": "code",
        "outputId": "1b547854-9c60-4211-fc50-1bdb7237768c",
        "colab": {
          "base_uri": "https://localhost:8080/",
          "height": 482
        }
      },
      "cell_type": "code",
      "source": [
        "texts = raw_tweets['tidy_tweet']\n",
        "sents = raw_tweets['airline_sentiment'] \n",
        "tweets_df = pd.concat([sents,texts], axis=1)\n",
        "tweets_df.head()"
      ],
      "execution_count": 16,
      "outputs": [
        {
          "output_type": "execute_result",
          "data": {
            "text/html": [
              "<div>\n",
              "<style scoped>\n",
              "    .dataframe tbody tr th:only-of-type {\n",
              "        vertical-align: middle;\n",
              "    }\n",
              "\n",
              "    .dataframe tbody tr th {\n",
              "        vertical-align: top;\n",
              "    }\n",
              "\n",
              "    .dataframe thead th {\n",
              "        text-align: right;\n",
              "    }\n",
              "</style>\n",
              "<table border=\"1\" class=\"dataframe\">\n",
              "  <thead>\n",
              "    <tr style=\"text-align: right;\">\n",
              "      <th></th>\n",
              "      <th>airline_sentiment</th>\n",
              "      <th>tidy_tweet</th>\n",
              "    </tr>\n",
              "  </thead>\n",
              "  <tbody>\n",
              "    <tr>\n",
              "      <th>0</th>\n",
              "      <td>1</td>\n",
              "      <td>What said.</td>\n",
              "    </tr>\n",
              "    <tr>\n",
              "      <th>1</th>\n",
              "      <td>2</td>\n",
              "      <td>plus you've added commercials to the experien...</td>\n",
              "    </tr>\n",
              "    <tr>\n",
              "      <th>2</th>\n",
              "      <td>1</td>\n",
              "      <td>I didn't today... Must mean I need to take an...</td>\n",
              "    </tr>\n",
              "    <tr>\n",
              "      <th>3</th>\n",
              "      <td>0</td>\n",
              "      <td>it's really aggressive to blast obnoxious \"en...</td>\n",
              "    </tr>\n",
              "    <tr>\n",
              "      <th>4</th>\n",
              "      <td>0</td>\n",
              "      <td>and it's a really big bad thing about it</td>\n",
              "    </tr>\n",
              "  </tbody>\n",
              "</table>\n",
              "</div>"
            ],
            "text/plain": [
              "   airline_sentiment                                         tidy_tweet\n",
              "0                  1                                         What said.\n",
              "1                  2   plus you've added commercials to the experien...\n",
              "2                  1   I didn't today... Must mean I need to take an...\n",
              "3                  0   it's really aggressive to blast obnoxious \"en...\n",
              "4                  0           and it's a really big bad thing about it"
            ]
          },
          "metadata": {
            "tags": []
          },
          "execution_count": 16
        }
      ]
    },
    {
      "metadata": {
        "id": "qwAztcwgYGA1",
        "colab_type": "code",
        "colab": {}
      },
      "cell_type": "code",
      "source": [
        "# Creating data bunch for language model using the data block API\n",
        "\n",
        "data_lm = (TextList.from_df(tweets_df, cols='tidy_tweet')\n",
        "            .random_split_by_pct(valid_pct=0.1)\n",
        "            .label_for_lm()           \n",
        "            .databunch(bs=48))"
      ],
      "execution_count": 0,
      "outputs": []
    },
    {
      "metadata": {
        "id": "zkWeQmQvZPCv",
        "colab_type": "code",
        "outputId": "ec4b79d9-79ba-4299-93ce-df6a03f75532",
        "colab": {
          "base_uri": "https://localhost:8080/",
          "height": 2423
        }
      },
      "cell_type": "code",
      "source": [
        "data_lm.show_batch()"
      ],
      "execution_count": 18,
      "outputs": [
        {
          "output_type": "display_data",
          "data": {
            "text/html": [
              "<table border=\"1\" class=\"dataframe\">\n",
              "  <thead>\n",
              "    <tr style=\"text-align: right;\">\n",
              "      <th>idx</th>\n",
              "      <th>text</th>\n",
              "    </tr>\n",
              "  </thead>\n",
              "  <tbody>\n",
              "    <tr>\n",
              "      <td>0</td>\n",
              "      <td>nearly every time i fly xxup vx this xxunk xxunk wo nt go away :) xxbos xxmaj really missed a prime opportunity for xxmaj men xxmaj without xxmaj xxunk xxunk , there . https : / / t.co / xxunk xxbos xxmaj well , i xxunk xxup now i xxup do ! xxup xxunk xxbos it was amazing , and arrived an hour early . xxmaj you 're too good</td>\n",
              "    </tr>\n",
              "    <tr>\n",
              "      <td>1</td>\n",
              "      <td>luggage . xxbos xxmaj xxunk xxmaj xxunk gave a # xxunk performance of the safety xxunk this evening on xxup xxunk # xxup xxunk # xxunk # xxunk xxbos xxmaj thanks ! xxbos thanks for taking care of on her flight ! ! # xxunk # travel xxbos xxmaj thanks for the lovely soft views ! # travel # xxup san to # xxup sfo http : / / t.co</td>\n",
              "    </tr>\n",
              "    <tr>\n",
              "      <td>2</td>\n",
              "      <td>no but is there a way to get a cheaper airfare ticket if the flight is leaving in a few hours ? xxbos can someone please explain the process of of what happens to property found on a plane after passengers leave at xxmaj heathrow ? xxbos not able to xxup dm you my confirmation number xxbos i 've sent the message , let me know if you got it</td>\n",
              "    </tr>\n",
              "    <tr>\n",
              "      <td>3</td>\n",
              "      <td>i 'm used to . xxmaj opened the app to find flight changed . xxbos that is not in line with your responses here . xxmaj and now i 'm waiting until tomorrow morning because all the flights are overbooked . xxbos i took the exact same aircraft in to xxup lax 3 days ago . xxmaj it fit , no problem . xxmaj the agent today told some nonsense</td>\n",
              "    </tr>\n",
              "    <tr>\n",
              "      <td>4</td>\n",
              "      <td>giving up and trying another airline ! ! ! xxbos i got email update but still no xxup eta . xxmaj more communication / details , apology + info on compensation rights would go a long way xxbos xxmaj late xxmaj flight crew into # btv last nite delayed todays flt . xxmaj will miss connection to # cun . xxmaj why do i have to play for hotel tonight</td>\n",
              "    </tr>\n",
              "  </tbody>\n",
              "</table>"
            ],
            "text/plain": [
              "<IPython.core.display.HTML object>"
            ]
          },
          "metadata": {
            "tags": []
          }
        }
      ]
    },
    {
      "metadata": {
        "id": "SXa9ArGCi3IM",
        "colab_type": "code",
        "colab": {}
      },
      "cell_type": "code",
      "source": [
        "# Creating data bunch for classifier using the data block API\n",
        "\n",
        "data_clas = (TextList.from_df(tweets_df, cols='tidy_tweet', vocab=data_lm.vocab)\n",
        "                   .random_split_by_pct(valid_pct=0.1)\n",
        "                   .label_from_df(cols='airline_sentiment')\n",
        "                   .databunch(bs=48))"
      ],
      "execution_count": 0,
      "outputs": []
    },
    {
      "metadata": {
        "id": "EERTxOobkilf",
        "colab_type": "code",
        "outputId": "3b7f8d38-8190-49f8-c035-2c38faedf63a",
        "colab": {
          "base_uri": "https://localhost:8080/",
          "height": 2441
        }
      },
      "cell_type": "code",
      "source": [
        "data_clas.show_batch()"
      ],
      "execution_count": 20,
      "outputs": [
        {
          "output_type": "display_data",
          "data": {
            "text/html": [
              "<table border=\"1\" class=\"dataframe\">\n",
              "  <thead>\n",
              "    <tr style=\"text-align: right;\">\n",
              "      <th>text</th>\n",
              "      <th>target</th>\n",
              "    </tr>\n",
              "  </thead>\n",
              "  <tbody>\n",
              "    <tr>\n",
              "      <td>xxbos xxmaj hi have a question re future xxmaj flight xxmaj booking xxmaj problems . xxup dub - xxup jac 29 / 9 xxup jac - xxup lax 8 / 10 xxup lax - xxup dub 13 / 10 . i 'm * xxup xxunk xxmaj what is checked bag allowance for xxup jac - xxup lax ?</td>\n",
              "      <td>1</td>\n",
              "    </tr>\n",
              "    <tr>\n",
              "      <td>xxbos xxup xxunk u xxup us xxup airways xxup with xxup yo xxup shitty xxup chicken xxup xxunk xxup sandwich xxup that xxup so xxup xxunk xxup and u xxup xxunk xxup make xxup me xxup wait xxup in a 6 xxup hr xxup layover xxup xxunk u xxup and</td>\n",
              "      <td>0</td>\n",
              "    </tr>\n",
              "    <tr>\n",
              "      <td>xxbos i had to travel to xxmaj savannah , xxup xxunk , once again , on an airline i do n't \" xxmaj luv \" . xxmaj when r u going to fly me to xxmaj savannah ? xxmaj xxunk xxrep 4 e ase xxrep 4 !</td>\n",
              "      <td>1</td>\n",
              "    </tr>\n",
              "    <tr>\n",
              "      <td>xxbos i xxunk from xxup xxunk xxup xxunk feb 17 . the xxup ac on my sit ( xxup xxunk ) was xxup on all night . i complaint to xxup fa who never gave me a real answer . xxmaj help !</td>\n",
              "      <td>0</td>\n",
              "    </tr>\n",
              "    <tr>\n",
              "      <td>xxbos why xxmaj cancelled xxmaj flight # xxunk on 6 / 25 &amp; &amp; 6 / 28 ? xxmaj flights now 4 hrs longer &amp; &amp; have layovers . xxmaj too xxmaj late xxmaj flight to find a xxunk priced alternative .</td>\n",
              "      <td>0</td>\n",
              "    </tr>\n",
              "  </tbody>\n",
              "</table>"
            ],
            "text/plain": [
              "<IPython.core.display.HTML object>"
            ]
          },
          "metadata": {
            "tags": []
          }
        }
      ]
    },
    {
      "metadata": {
        "id": "9m7urcvAe4vM",
        "colab_type": "text"
      },
      "cell_type": "markdown",
      "source": [
        "### Importing ULMfit and tuning it to our dataset"
      ]
    },
    {
      "metadata": {
        "id": "3IAqlf2_ZYoO",
        "colab_type": "text"
      },
      "cell_type": "markdown",
      "source": [
        "#### Initializing model"
      ]
    },
    {
      "metadata": {
        "id": "tBKc9j4Ke-8H",
        "colab_type": "code",
        "colab": {}
      },
      "cell_type": "code",
      "source": [
        "# learn.destroy()\n",
        "learn = language_model_learner(data_lm, arch=AWD_LSTM, drop_mult=0.7, callback_fns=ShowGraph)"
      ],
      "execution_count": 0,
      "outputs": []
    },
    {
      "metadata": {
        "id": "cOqxMAVYhnPi",
        "colab_type": "text"
      },
      "cell_type": "markdown",
      "source": [
        "**Reasoning:** \n",
        "* Dropout - my dataset is quite small, so right off the bat I knew I would need dropout to decrease noise and prevent overfitting. I experimented with different values (0.3, 0.5, 0.7) and ultimately chose 0.7. \n",
        "* Considered early stopping, but even having patience=1 created an overfitting problem so I used it to get a general idea of how many cycles to train for, but ultimately removed it.\n"
      ]
    },
    {
      "metadata": {
        "id": "L_q-DVW5f1hX",
        "colab_type": "code",
        "colab": {}
      },
      "cell_type": "code",
      "source": [
        "# Addressing class imbalance by changing the weight of each class\n",
        "# (i.e. the frequency of being seen)\n",
        "# SOURCE: https://forums.fast.ai/t/correcting-class-imbalance-for-nlp/22152\n",
        "\n",
        "labelcounts = tweets_df.groupby(['airline_sentiment']).size()\n",
        "label_sum = len(tweets_df['airline_sentiment'])\n",
        "weights_balance = [(1-count/label_sum) for count in labelcounts]\n",
        "loss_weights = torch.FloatTensor(weights_balance).cuda()\n",
        "learn.crit = partial(F.cross_entropy, weight=loss_weights)"
      ],
      "execution_count": 0,
      "outputs": []
    },
    {
      "metadata": {
        "id": "KMLlDUI4hgjY",
        "colab_type": "text"
      },
      "cell_type": "markdown",
      "source": [
        "#### Finetuning\n",
        "**In short, I decided on a starting point using helper functions (like lr_find) and other people's experiences finetuning ULMfit models and made adjustments using training results.**\n",
        "* Gradual unfreezing - best practice for ULMfit tuning\n",
        "* Discriminative layer tuning - best practice for ULMfit tuning\n",
        "* Momentum - weighting gradient descent to make convergence happen more quickly (and as a result help prevent overfitting)\n",
        "* Weight decay - keeping overfitting in check\n"
      ]
    },
    {
      "metadata": {
        "id": "vtifLUiXf94h",
        "colab_type": "code",
        "outputId": "536abf02-ac8d-493b-87a4-eb742c508623",
        "colab": {
          "base_uri": "https://localhost:8080/",
          "height": 314
        }
      },
      "cell_type": "code",
      "source": [
        "# Optimizing the learning rate - a starting point\n",
        "\n",
        "learn.freeze()\n",
        "learn.lr_find()\n",
        "learn.recorder.plot(suggestion=True)"
      ],
      "execution_count": 23,
      "outputs": [
        {
          "output_type": "display_data",
          "data": {
            "text/html": [
              ""
            ],
            "text/plain": [
              "<IPython.core.display.HTML object>"
            ]
          },
          "metadata": {
            "tags": []
          }
        },
        {
          "output_type": "stream",
          "text": [
            "LR Finder is complete, type {learner_name}.recorder.plot() to see the graph.\n",
            "Min numerical gradient: 5.75E-02\n"
          ],
          "name": "stdout"
        },
        {
          "output_type": "display_data",
          "data": {
            "image/png": "[encoded data removed]",
            "text/plain": [
              "<Figure size 432x288 with 1 Axes>"
            ]
          },
          "metadata": {
            "tags": []
          }
        }
      ]
    },
    {
      "metadata": {
        "id": "7SybaSgdg4XL",
        "colab_type": "code",
        "outputId": "6f538612-0589-41de-9aa1-7654c1fcb566",
        "colab": {
          "base_uri": "https://localhost:8080/",
          "height": 1381
        }
      },
      "cell_type": "code",
      "source": [
        "# Finetuning via gradual unfreezing and discriminative layer tuning \n",
        "\n",
        "learn.unfreeze()\n",
        "learn.fit_one_cycle(2, slice(5e-2/(2.6**4), 5e-2), moms = (0.8,0.7), wd=1e-2)\n",
        "learn.freeze_to(-2)\n",
        "learn.fit_one_cycle(1, slice(3e-2/(2.6**4), 3e-2), moms = (0.8,0.7), wd=1e-2)\n",
        "learn.freeze_to(-3)\n",
        "learn.fit_one_cycle(1, slice(3e-2/(2.6**4), 3e-2), moms = (0.8,0.7), wd=1e-2)\n",
        "learn.unfreeze()\n",
        "learn.fit_one_cycle(1, slice(2e-2/(2.6**4), 2e-2), moms = (0.8,0.7), wd=1e-2)"
      ],
      "execution_count": 24,
      "outputs": [
        {
          "output_type": "display_data",
          "data": {
            "text/html": [
              "Total time: 01:10 <p><table border=\"1\" class=\"dataframe\">\n",
              "  <thead>\n",
              "    <tr style=\"text-align: left;\">\n",
              "      <th>epoch</th>\n",
              "      <th>train_loss</th>\n",
              "      <th>valid_loss</th>\n",
              "      <th>accuracy</th>\n",
              "      <th>time</th>\n",
              "    </tr>\n",
              "  </thead>\n",
              "  <tbody>\n",
              "    <tr>\n",
              "      <td>1</td>\n",
              "      <td>4.343239</td>\n",
              "      <td>3.887815</td>\n",
              "      <td>0.271875</td>\n",
              "      <td>00:34</td>\n",
              "    </tr>\n",
              "    <tr>\n",
              "      <td>2</td>\n",
              "      <td>3.836252</td>\n",
              "      <td>3.724718</td>\n",
              "      <td>0.289970</td>\n",
              "      <td>00:34</td>\n",
              "    </tr>\n",
              "  </tbody>\n",
              "</table>"
            ],
            "text/plain": [
              "<IPython.core.display.HTML object>"
            ]
          },
          "metadata": {
            "tags": []
          }
        },
        {
          "output_type": "display_data",
          "data": {
            "image/png": "[encoded data removed]",
            "text/plain": [
              "<Figure size 432x288 with 1 Axes>"
            ]
          },
          "metadata": {
            "tags": []
          }
        },
        {
          "output_type": "display_data",
          "data": {
            "text/html": [
              "Total time: 00:29 <p><table border=\"1\" class=\"dataframe\">\n",
              "  <thead>\n",
              "    <tr style=\"text-align: left;\">\n",
              "      <th>epoch</th>\n",
              "      <th>train_loss</th>\n",
              "      <th>valid_loss</th>\n",
              "      <th>accuracy</th>\n",
              "      <th>time</th>\n",
              "    </tr>\n",
              "  </thead>\n",
              "  <tbody>\n",
              "    <tr>\n",
              "      <td>1</td>\n",
              "      <td>3.657377</td>\n",
              "      <td>3.720997</td>\n",
              "      <td>0.290863</td>\n",
              "      <td>00:28</td>\n",
              "    </tr>\n",
              "  </tbody>\n",
              "</table>"
            ],
            "text/plain": [
              "<IPython.core.display.HTML object>"
            ]
          },
          "metadata": {
            "tags": []
          }
        },
        {
          "output_type": "display_data",
          "data": {
            "image/png": "[encoded data removed]",
            "text/plain": [
              "<Figure size 432x288 with 1 Axes>"
            ]
          },
          "metadata": {
            "tags": []
          }
        },
        {
          "output_type": "display_data",
          "data": {
            "text/html": [
              "Total time: 00:32 <p><table border=\"1\" class=\"dataframe\">\n",
              "  <thead>\n",
              "    <tr style=\"text-align: left;\">\n",
              "      <th>epoch</th>\n",
              "      <th>train_loss</th>\n",
              "      <th>valid_loss</th>\n",
              "      <th>accuracy</th>\n",
              "      <th>time</th>\n",
              "    </tr>\n",
              "  </thead>\n",
              "  <tbody>\n",
              "    <tr>\n",
              "      <td>1</td>\n",
              "      <td>3.598732</td>\n",
              "      <td>3.718417</td>\n",
              "      <td>0.292381</td>\n",
              "      <td>00:32</td>\n",
              "    </tr>\n",
              "  </tbody>\n",
              "</table>"
            ],
            "text/plain": [
              "<IPython.core.display.HTML object>"
            ]
          },
          "metadata": {
            "tags": []
          }
        },
        {
          "output_type": "display_data",
          "data": {
            "image/png": "[encoded data removed]",
            "text/plain": [
              "<Figure size 432x288 with 1 Axes>"
            ]
          },
          "metadata": {
            "tags": []
          }
        },
        {
          "output_type": "display_data",
          "data": {
            "text/html": [
              "Total time: 00:35 <p><table border=\"1\" class=\"dataframe\">\n",
              "  <thead>\n",
              "    <tr style=\"text-align: left;\">\n",
              "      <th>epoch</th>\n",
              "      <th>train_loss</th>\n",
              "      <th>valid_loss</th>\n",
              "      <th>accuracy</th>\n",
              "      <th>time</th>\n",
              "    </tr>\n",
              "  </thead>\n",
              "  <tbody>\n",
              "    <tr>\n",
              "      <td>1</td>\n",
              "      <td>3.421288</td>\n",
              "      <td>3.726572</td>\n",
              "      <td>0.291726</td>\n",
              "      <td>00:34</td>\n",
              "    </tr>\n",
              "  </tbody>\n",
              "</table>"
            ],
            "text/plain": [
              "<IPython.core.display.HTML object>"
            ]
          },
          "metadata": {
            "tags": []
          }
        },
        {
          "output_type": "display_data",
          "data": {
            "image/png": "[encoded data removed]",
            "text/plain": [
              "<Figure size 432x288 with 1 Axes>"
            ]
          },
          "metadata": {
            "tags": []
          }
        }
      ]
    },
    {
      "metadata": {
        "id": "36ALCCWti7hH",
        "colab_type": "code",
        "colab": {}
      },
      "cell_type": "code",
      "source": [
        "# Saving the fine tuned language model \n",
        "\n",
        "learn.freeze()\n",
        "learn.save('fine_tuned_lm')\n",
        "learn.save_encoder('fine_tuned_lm_enc')"
      ],
      "execution_count": 0,
      "outputs": []
    },
    {
      "metadata": {
        "id": "1v5THAaTwfY_",
        "colab_type": "code",
        "colab": {
          "base_uri": "https://localhost:8080/",
          "height": 55
        },
        "outputId": "1818f9fb-8b09-4cad-da75-830e6bbb00bf"
      },
      "cell_type": "code",
      "source": [
        "# Does this predicted tweet sort-of make sense? (yes!)\n",
        "\n",
        "learn.predict('My flight last week was ', 15)"
      ],
      "execution_count": 26,
      "outputs": [
        {
          "output_type": "execute_result",
          "data": {
            "text/plain": [
              "'My flight last week was  delayed , so no one could help though ! \" on plane from PHX'"
            ]
          },
          "metadata": {
            "tags": []
          },
          "execution_count": 26
        }
      ]
    },
    {
      "metadata": {
        "id": "1WFjFUO7ian1",
        "colab_type": "text"
      },
      "cell_type": "markdown",
      "source": [
        "### Classifier creation and tuning"
      ]
    },
    {
      "metadata": {
        "id": "mAF3FlezZizZ",
        "colab_type": "text"
      },
      "cell_type": "markdown",
      "source": [
        "#### Initializing the classifier"
      ]
    },
    {
      "metadata": {
        "id": "lfeMJ7KtiZhj",
        "colab_type": "code",
        "colab": {}
      },
      "cell_type": "code",
      "source": [
        "# learn.destroy()\n",
        "learn = text_classifier_learner(data_clas, arch=AWD_LSTM, drop_mult=0.7, callback_fns=ShowGraph)\n",
        "learn.load_encoder('fine_tuned_lm_enc')\n",
        "learn.clip=0.3"
      ],
      "execution_count": 0,
      "outputs": []
    },
    {
      "metadata": {
        "id": "LkzjS21JIV1m",
        "colab_type": "text"
      },
      "cell_type": "markdown",
      "source": [
        "I decided to use gradient clipping because I noticed highly unstable error rates. Even with clip=0.3, my model is still slightly unstable. However, I found that increasing gradient clipping more than that caused my model to converge too quickly. "
      ]
    },
    {
      "metadata": {
        "id": "SQKjGGotlQzB",
        "colab_type": "code",
        "colab": {}
      },
      "cell_type": "code",
      "source": [
        "# Addressing class imbalance \n",
        "# SOURCE: https://forums.fast.ai/t/correcting-class-imbalance-for-nlp/22152\n",
        "\n",
        "labelcounts = tweets_df.groupby(['airline_sentiment']).size()\n",
        "label_sum = len(tweets_df['airline_sentiment'])\n",
        "weights_balance = [(1-count/label_sum) for count in labelcounts]\n",
        "loss_weights = torch.FloatTensor(weights_balance).cuda()\n",
        "learn.crit = partial(F.cross_entropy, weight=loss_weights)"
      ],
      "execution_count": 0,
      "outputs": []
    },
    {
      "metadata": {
        "id": "d5bOAe0OZmXh",
        "colab_type": "text"
      },
      "cell_type": "markdown",
      "source": [
        "#### Finetuning"
      ]
    },
    {
      "metadata": {
        "id": "U9a4cZENlVJ0",
        "colab_type": "code",
        "outputId": "3e4d80ae-d4e8-460d-c06e-80fb6e6f3bcc",
        "colab": {
          "base_uri": "https://localhost:8080/",
          "height": 314
        }
      },
      "cell_type": "code",
      "source": [
        "# Optimizing the learning rate - a starting point\n",
        "\n",
        "learn.freeze()\n",
        "learn.lr_find()\n",
        "learn.recorder.plot(suggestion=True)"
      ],
      "execution_count": 29,
      "outputs": [
        {
          "output_type": "display_data",
          "data": {
            "text/html": [
              ""
            ],
            "text/plain": [
              "<IPython.core.display.HTML object>"
            ]
          },
          "metadata": {
            "tags": []
          }
        },
        {
          "output_type": "stream",
          "text": [
            "LR Finder is complete, type {learner_name}.recorder.plot() to see the graph.\n",
            "Min numerical gradient: 1.20E-01\n"
          ],
          "name": "stdout"
        },
        {
          "output_type": "display_data",
          "data": {
            "image/png": "[encoded data removed]",
            "text/plain": [
              "<Figure size 432x288 with 1 Axes>"
            ]
          },
          "metadata": {
            "tags": []
          }
        }
      ]
    },
    {
      "metadata": {
        "id": "F9p89-FOllcU",
        "colab_type": "code",
        "outputId": "cf3ec777-db74-470d-ec0f-7b29c90d2c80",
        "colab": {
          "base_uri": "https://localhost:8080/",
          "height": 1596
        }
      },
      "cell_type": "code",
      "source": [
        "# Fine tuning\n",
        "\n",
        "learn.unfreeze()\n",
        "learn.fit_one_cycle(7, slice(2.5e-2/(2.6**4), 2.5e-2), moms = (0.8,0.7), wd=1e-2)\n",
        "learn.freeze_to(-2)\n",
        "learn.fit_one_cycle(2, slice(2e-2/(2.6**4), 2e-2), moms = (0.8,0.7), wd=1e-2)\n",
        "learn.freeze_to(-3)\n",
        "learn.fit_one_cycle(2, slice(2e-2/(2.6**4), 2e-2), moms = (0.8,0.7), wd=1e-2)\n",
        "learn.unfreeze()\n",
        "learn.fit_one_cycle(1, slice(1.5e-2/(2.6**4), 1.5e-2), moms = (0.8,0.7), wd=1e-2)"
      ],
      "execution_count": 30,
      "outputs": [
        {
          "output_type": "display_data",
          "data": {
            "text/html": [
              "Total time: 05:32 <p><table border=\"1\" class=\"dataframe\">\n",
              "  <thead>\n",
              "    <tr style=\"text-align: left;\">\n",
              "      <th>epoch</th>\n",
              "      <th>train_loss</th>\n",
              "      <th>valid_loss</th>\n",
              "      <th>accuracy</th>\n",
              "      <th>time</th>\n",
              "    </tr>\n",
              "  </thead>\n",
              "  <tbody>\n",
              "    <tr>\n",
              "      <td>1</td>\n",
              "      <td>0.681739</td>\n",
              "      <td>0.493606</td>\n",
              "      <td>0.803177</td>\n",
              "      <td>00:47</td>\n",
              "    </tr>\n",
              "    <tr>\n",
              "      <td>2</td>\n",
              "      <td>0.602991</td>\n",
              "      <td>0.484807</td>\n",
              "      <td>0.801105</td>\n",
              "      <td>00:46</td>\n",
              "    </tr>\n",
              "    <tr>\n",
              "      <td>3</td>\n",
              "      <td>0.590077</td>\n",
              "      <td>0.514070</td>\n",
              "      <td>0.796961</td>\n",
              "      <td>00:46</td>\n",
              "    </tr>\n",
              "    <tr>\n",
              "      <td>4</td>\n",
              "      <td>0.545599</td>\n",
              "      <td>0.439957</td>\n",
              "      <td>0.836326</td>\n",
              "      <td>00:48</td>\n",
              "    </tr>\n",
              "    <tr>\n",
              "      <td>5</td>\n",
              "      <td>0.499461</td>\n",
              "      <td>0.425354</td>\n",
              "      <td>0.839779</td>\n",
              "      <td>00:46</td>\n",
              "    </tr>\n",
              "    <tr>\n",
              "      <td>6</td>\n",
              "      <td>0.455613</td>\n",
              "      <td>0.417327</td>\n",
              "      <td>0.841851</td>\n",
              "      <td>00:47</td>\n",
              "    </tr>\n",
              "    <tr>\n",
              "      <td>7</td>\n",
              "      <td>0.423668</td>\n",
              "      <td>0.414224</td>\n",
              "      <td>0.834945</td>\n",
              "      <td>00:46</td>\n",
              "    </tr>\n",
              "  </tbody>\n",
              "</table>"
            ],
            "text/plain": [
              "<IPython.core.display.HTML object>"
            ]
          },
          "metadata": {
            "tags": []
          }
        },
        {
          "output_type": "display_data",
          "data": {
            "image/png": "[encoded data removed]",
            "text/plain": [
              "<Figure size 432x288 with 1 Axes>"
            ]
          },
          "metadata": {
            "tags": []
          }
        },
        {
          "output_type": "display_data",
          "data": {
            "text/html": [
              "Total time: 00:45 <p><table border=\"1\" class=\"dataframe\">\n",
              "  <thead>\n",
              "    <tr style=\"text-align: left;\">\n",
              "      <th>epoch</th>\n",
              "      <th>train_loss</th>\n",
              "      <th>valid_loss</th>\n",
              "      <th>accuracy</th>\n",
              "      <th>time</th>\n",
              "    </tr>\n",
              "  </thead>\n",
              "  <tbody>\n",
              "    <tr>\n",
              "      <td>1</td>\n",
              "      <td>0.461662</td>\n",
              "      <td>0.421901</td>\n",
              "      <td>0.845994</td>\n",
              "      <td>00:21</td>\n",
              "    </tr>\n",
              "    <tr>\n",
              "      <td>2</td>\n",
              "      <td>0.422008</td>\n",
              "      <td>0.410320</td>\n",
              "      <td>0.841160</td>\n",
              "      <td>00:22</td>\n",
              "    </tr>\n",
              "  </tbody>\n",
              "</table>"
            ],
            "text/plain": [
              "<IPython.core.display.HTML object>"
            ]
          },
          "metadata": {
            "tags": []
          }
        },
        {
          "output_type": "display_data",
          "data": {
            "image/png": "[encoded data removed]",
            "text/plain": [
              "<Figure size 432x288 with 1 Axes>"
            ]
          },
          "metadata": {
            "tags": []
          }
        },
        {
          "output_type": "display_data",
          "data": {
            "text/html": [
              "Total time: 01:14 <p><table border=\"1\" class=\"dataframe\">\n",
              "  <thead>\n",
              "    <tr style=\"text-align: left;\">\n",
              "      <th>epoch</th>\n",
              "      <th>train_loss</th>\n",
              "      <th>valid_loss</th>\n",
              "      <th>accuracy</th>\n",
              "      <th>time</th>\n",
              "    </tr>\n",
              "  </thead>\n",
              "  <tbody>\n",
              "    <tr>\n",
              "      <td>1</td>\n",
              "      <td>0.478298</td>\n",
              "      <td>0.464884</td>\n",
              "      <td>0.819751</td>\n",
              "      <td>00:36</td>\n",
              "    </tr>\n",
              "    <tr>\n",
              "      <td>2</td>\n",
              "      <td>0.433969</td>\n",
              "      <td>0.423077</td>\n",
              "      <td>0.839088</td>\n",
              "      <td>00:37</td>\n",
              "    </tr>\n",
              "  </tbody>\n",
              "</table>"
            ],
            "text/plain": [
              "<IPython.core.display.HTML object>"
            ]
          },
          "metadata": {
            "tags": []
          }
        },
        {
          "output_type": "display_data",
          "data": {
            "image/png": "[encoded data removed]",
            "text/plain": [
              "<Figure size 432x288 with 1 Axes>"
            ]
          },
          "metadata": {
            "tags": []
          }
        },
        {
          "output_type": "display_data",
          "data": {
            "text/html": [
              "Total time: 00:48 <p><table border=\"1\" class=\"dataframe\">\n",
              "  <thead>\n",
              "    <tr style=\"text-align: left;\">\n",
              "      <th>epoch</th>\n",
              "      <th>train_loss</th>\n",
              "      <th>valid_loss</th>\n",
              "      <th>accuracy</th>\n",
              "      <th>time</th>\n",
              "    </tr>\n",
              "  </thead>\n",
              "  <tbody>\n",
              "    <tr>\n",
              "      <td>1</td>\n",
              "      <td>0.443928</td>\n",
              "      <td>0.455072</td>\n",
              "      <td>0.839779</td>\n",
              "      <td>00:48</td>\n",
              "    </tr>\n",
              "  </tbody>\n",
              "</table>"
            ],
            "text/plain": [
              "<IPython.core.display.HTML object>"
            ]
          },
          "metadata": {
            "tags": []
          }
        },
        {
          "output_type": "display_data",
          "data": {
            "image/png": "[encoded data removed]",
            "text/plain": [
              "<Figure size 432x288 with 1 Axes>"
            ]
          },
          "metadata": {
            "tags": []
          }
        }
      ]
    },
    {
      "metadata": {
        "id": "JbsPJouSwJIB",
        "colab_type": "code",
        "colab": {}
      },
      "cell_type": "code",
      "source": [
        "learn.save_encoder('fine_tuned_clas')"
      ],
      "execution_count": 0,
      "outputs": []
    },
    {
      "metadata": {
        "id": "HWm35EZCwIPF",
        "colab_type": "text"
      },
      "cell_type": "markdown",
      "source": [
        "### Results"
      ]
    },
    {
      "metadata": {
        "id": "pq0kEucewQfr",
        "colab_type": "code",
        "colab": {}
      },
      "cell_type": "code",
      "source": [
        "learn.load_encoder('fine_tuned_clas')"
      ],
      "execution_count": 0,
      "outputs": []
    },
    {
      "metadata": {
        "id": "upY3-UxImB8a",
        "colab_type": "text"
      },
      "cell_type": "markdown",
      "source": [
        "#### Cross-validation and extracting predictions"
      ]
    },
    {
      "metadata": {
        "id": "OzUIqbvszoRK",
        "colab_type": "code",
        "colab": {
          "base_uri": "https://localhost:8080/",
          "height": 52
        },
        "outputId": "8607f53d-b127-4eec-e4dc-e60bef22b025"
      },
      "cell_type": "code",
      "source": [
        "# Cross validation\n",
        "\n",
        "val = learn.validate(learn.data.valid_dl, metrics=[accuracy])\n",
        "print('Cross validation loss:', val[0])\n",
        "print('Cross validation accuracy:', float(val[1]*100), '%')"
      ],
      "execution_count": 33,
      "outputs": [
        {
          "output_type": "stream",
          "text": [
            "Cross validation loss: 0.4550722\n",
            "Cross validation accuracy: 83.9779052734375 %\n"
          ],
          "name": "stdout"
        }
      ]
    },
    {
      "metadata": {
        "id": "xS7dnVw-zpn1",
        "colab_type": "code",
        "colab": {
          "base_uri": "https://localhost:8080/",
          "height": 52
        },
        "outputId": "15466066-e856-42ab-e70c-b858c4ebc63b"
      },
      "cell_type": "code",
      "source": [
        "# Getting validation predictions so we can explore our results more in-depth\n",
        "\n",
        "y_pred, y_true = learn.get_preds(ds_type=DatasetType.Valid)\n",
        "y_pred = np.array(np.argmax(y_pred, axis=1))\n",
        "y_true = np.array(y_true)\n",
        "\n",
        "print(y_pred)\n",
        "print(y_true)"
      ],
      "execution_count": 34,
      "outputs": [
        {
          "output_type": "stream",
          "text": [
            "[1 0 1 0 ... 0 1 2 1]\n",
            "[1 0 0 0 ... 1 1 2 1]\n"
          ],
          "name": "stdout"
        }
      ]
    },
    {
      "metadata": {
        "id": "oGARD6b2mTnj",
        "colab_type": "text"
      },
      "cell_type": "markdown",
      "source": [
        "#### Performance metrics and future work"
      ]
    },
    {
      "metadata": {
        "id": "92TgxMd1cuMx",
        "colab_type": "code",
        "colab": {
          "base_uri": "https://localhost:8080/",
          "height": 191
        },
        "outputId": "76abf07a-72f0-4e6a-fbb1-5cef3aa280ae"
      },
      "cell_type": "code",
      "source": [
        "# Classification report\n",
        "# SOURCE: https://blog.infegy.com/understanding-sentiment-analysis-and-sentiment-accuracy\n",
        "\n",
        "class_rep = classification_report(y_true, y_pred, target_names=['negative', 'neutral', 'positive'])\n",
        "print(class_rep)"
      ],
      "execution_count": 35,
      "outputs": [
        {
          "output_type": "stream",
          "text": [
            "              precision    recall  f1-score   support\n",
            "\n",
            "    negative       0.87      0.93      0.90       920\n",
            "     neutral       0.73      0.63      0.67       305\n",
            "    positive       0.85      0.77      0.81       223\n",
            "\n",
            "   micro avg       0.84      0.84      0.84      1448\n",
            "   macro avg       0.82      0.77      0.79      1448\n",
            "weighted avg       0.84      0.84      0.84      1448\n",
            "\n"
          ],
          "name": "stdout"
        }
      ]
    },
    {
      "metadata": {
        "id": "6MBrXHDkmYLm",
        "colab_type": "text"
      },
      "cell_type": "markdown",
      "source": [
        "The metric I want to focus on here is the F1 score, but I used a classification report to see precision and recall as well because they contribute to F1 score. F1 score is a better representation of the classifier's performance than accuracy alone because the classes are imbalanced, and F1 score accounts for this by considering recall. \n",
        "\n",
        "*  Immediately, we can see that the model was most successful in understanding the negative class - high precision and recall indicates that there weren't many false positives (i.e. predicting neutral or positive, actually negative) or false negatives (i.e. predicting negative, actually neutral or positive). Although we addressed class imbalance using weights, the model still saw a greater variety of negative sentiment samples. I would like to address this in future work by implementing another oversampling technique, such as SMOTE. \n",
        "* The positive class also exhibited adequate performance. Although both precision and recall for this class are lower than I would like, they are similar (and similar to the F1 score they produce). This means I probably need to train my model more in future work. Maybe I could find more data or create more using SMOTE oversampling, which would allow me to train my model for longer without overfitting. \n",
        "* The neutral class is the most interesting, as its performance is the most inconsistent. For the most part, the model was able to get an idea of which tweets DO belong in the neutral class - precision is nearly on par with the posititve class. However, it is less able to determine which tweets do NOT belong in the neutral class. This shows that the model isn't fully able to detect the sentiment of every tweet - some tweets' sentiment is not detected by the model, and so it is classified as neutral. I think I should train my model more, as described above. Additionally, I will continue to experiment with data cleaning for tweets, including which information to keep/replace (as described in Cleaning and Preprocessing --> Cleaning) and different tokenization and numericalization strategies. \n",
        "\n",
        "Lastly, the micro, macro, and weighted averages confirm that the weight adjustments I made did indeed address class imbalance. \n",
        "\n",
        "\n",
        "\n"
      ]
    },
    {
      "metadata": {
        "id": "dd5kmE84d3hl",
        "colab_type": "code",
        "colab": {
          "base_uri": "https://localhost:8080/",
          "height": 917
        },
        "outputId": "b993fdb2-d7c6-4d7c-86fb-ffb2970a07be"
      },
      "cell_type": "code",
      "source": [
        "# Creating and plotting the confusion matrix\n",
        "# SOURCE: https://www.kaggle.com/grfiv4/plot-a-confusion-matrix\n",
        "\n",
        "cm = confusion_matrix(y_true, y_pred)\n",
        "\n",
        "def plot_confusion_matrix(cm, target_names, title='Confusion matrix', cmap=None, normalize=True):\n",
        "  accuracy = np.trace(cm) / float(np.sum(cm))\n",
        "  misclass = 1 - accuracy\n",
        "  if cmap is None:\n",
        "      cmap = plt.get_cmap('Blues')\n",
        "  plt.figure(figsize=(8, 6))\n",
        "  plt.imshow(cm, interpolation='nearest', cmap=cmap)\n",
        "  plt.title(title)\n",
        "  plt.colorbar()\n",
        "  if target_names is not None:\n",
        "      tick_marks = np.arange(len(target_names))\n",
        "      plt.xticks(tick_marks, target_names, rotation=45)\n",
        "      plt.yticks(tick_marks, target_names)\n",
        "  if normalize:\n",
        "      cm = cm.astype('float') / cm.sum(axis=1)[:, np.newaxis]\n",
        "  thresh = cm.max() / 1.5 if normalize else cm.max() / 2\n",
        "  for i, j in itertools.product(range(cm.shape[0]), range(cm.shape[1])):\n",
        "      if normalize:\n",
        "          plt.text(j, i, \"{:0.4f}\".format(cm[i, j]),\n",
        "                   horizontalalignment=\"center\",\n",
        "                   color=\"white\" if cm[i, j] > thresh else \"black\")\n",
        "      else:\n",
        "          plt.text(j, i, \"{:,}\".format(cm[i, j]),\n",
        "                   horizontalalignment=\"center\",\n",
        "                   color=\"white\" if cm[i, j] > thresh else \"black\")\n",
        "  plt.tight_layout()\n",
        "  plt.ylabel('True label')\n",
        "  plt.xlabel('Predicted label\\naccuracy={:0.4f}; misclass={:0.4f}'.format(accuracy, misclass))\n",
        "  plt.show()\n",
        "    \n",
        "    \n",
        "plot_confusion_matrix(cm=cm, target_names=['negative', 'neutral', 'positive'], \n",
        "                      title='Confusion Matrix - numerical results)', cmap='gist_yarg', normalize=False)\n",
        "plot_confusion_matrix(cm=cm, target_names=['negative', 'neutral', 'positive'], \n",
        "                      title='Confusion Matrix - normalized)', cmap='gist_yarg', normalize=True)"
      ],
      "execution_count": 36,
      "outputs": [
        {
          "output_type": "display_data",
          "data": {
            "image/png": "[encoded data removed]",
            "text/plain": [
              "<Figure size 576x432 with 2 Axes>"
            ]
          },
          "metadata": {
            "tags": []
          }
        },
        {
          "output_type": "display_data",
          "data": {
            "image/png": "[encoded data removed]",
            "text/plain": [
              "<Figure size 576x432 with 2 Axes>"
            ]
          },
          "metadata": {
            "tags": []
          }
        }
      ]
    },
    {
      "metadata": {
        "id": "CKK89xmEvFq9",
        "colab_type": "text"
      },
      "cell_type": "markdown",
      "source": [
        "These confusion matrices are consistent with the classification report above. Interestingly, the model had the most problems predicting neutral tweets as negative. I think the next steps will be to change the way I correct my class imbalance. Maybe if I gave the model a greater variety of neutral tweets, it would be more likely to recognize their nuances, as opposed to negative tweets. "
      ]
    }
  ]
}